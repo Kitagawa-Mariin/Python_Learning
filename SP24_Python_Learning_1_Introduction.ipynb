{
  "nbformat": 4,
  "nbformat_minor": 0,
  "metadata": {
    "colab": {
      "provenance": [],
      "include_colab_link": true
    },
    "kernelspec": {
      "name": "python3",
      "display_name": "Python 3"
    },
    "language_info": {
      "name": "python"
    }
  },
  "cells": [
    {
      "cell_type": "markdown",
      "metadata": {
        "id": "view-in-github",
        "colab_type": "text"
      },
      "source": [
        "<a href=\"https://colab.research.google.com/github/Kitagawa-Mariin/Python_Learning/blob/main/SP24_Python_Learning_1_Introduction.ipynb\" target=\"_parent\"><img src=\"https://colab.research.google.com/assets/colab-badge.svg\" alt=\"Open In Colab\"/></a>"
      ]
    },
    {
      "cell_type": "markdown",
      "source": [
        "# Hello, World! - Introduction to Python"
      ],
      "metadata": {
        "id": "9O2w13_03Yr4"
      }
    },
    {
      "cell_type": "markdown",
      "source": [
        "## Print"
      ],
      "metadata": {
        "id": "AFbbnl0n3wid"
      }
    },
    {
      "cell_type": "markdown",
      "source": [
        "We can use **print()** to 'print' anything."
      ],
      "metadata": {
        "id": "-44SZe9Z3wgf"
      }
    },
    {
      "cell_type": "markdown",
      "source": [
        "▶️ Run the code cell below to make system to print out a message!"
      ],
      "metadata": {
        "id": "jMvzUXEf3wek"
      }
    },
    {
      "cell_type": "code",
      "execution_count": null,
      "metadata": {
        "colab": {
          "base_uri": "https://localhost:8080/"
        },
        "id": "7I50rbJU21a6",
        "outputId": "8908cd1c-f71b-4dc1-a30f-2b8a23e4e016"
      },
      "outputs": [
        {
          "output_type": "stream",
          "name": "stdout",
          "text": [
            "Hello World!\n"
          ]
        }
      ],
      "source": [
        "print(\"Hello World!\")"
      ]
    },
    {
      "cell_type": "markdown",
      "source": [
        "▶️ Run the code cell below to make system to print out different things!"
      ],
      "metadata": {
        "id": "6LfMRCru3wbo"
      }
    },
    {
      "cell_type": "code",
      "source": [
        "print(123)\n",
        "print(5.5)\n",
        "print(False)"
      ],
      "metadata": {
        "id": "SAroXHVY4dfu"
      },
      "execution_count": null,
      "outputs": []
    },
    {
      "cell_type": "markdown",
      "source": [
        "## Variables\n"
      ],
      "metadata": {
        "id": "U732QmQS4hyA"
      }
    },
    {
      "cell_type": "markdown",
      "source": [
        "### Variable Types\n"
      ],
      "metadata": {
        "id": "k_F6fp245LAs"
      }
    },
    {
      "cell_type": "markdown",
      "source": [
        "\n",
        "\n",
        "1.   int -> integer(정수): -2,-1,0,1,2,3 -> 소숫점 없는 숫자들\n",
        "\n",
        "\n",
        "2.   float -> 소숫점 있는 수: 0.1,0.2,0.3...\n",
        "\n",
        "\n",
        "3.   char -> 문자 character: 'a', 'b', 'c', 'd'\n",
        "\n",
        "\n",
        "4.   string -> 문자열, union of characters: \"hello\", \"This is a string\"\n",
        "\n",
        "\n",
        "5.   bool ->   조건(boolean) : True False\n",
        "\n",
        "\n"
      ],
      "metadata": {
        "id": "2UKF5E6c5N-6"
      }
    },
    {
      "cell_type": "markdown",
      "source": [
        "We can declare variable by **(Name) = (Value)**."
      ],
      "metadata": {
        "id": "XcALBgSK4lhL"
      }
    },
    {
      "cell_type": "code",
      "source": [
        "# 이렇게 #을 써서 글을 쓰면 주석이라 해서 코드에는 포함되지 않는 일종의 노트로 작용합니다.\n",
        "# 이런 식으로 노트를 적어주면 코드가 어떤 일을 하는지 잊지 않을 수 있어서 중요합니다!\n",
        "\n",
        "\n",
        "# integer\n",
        "number = 10\n",
        "\n",
        "# float\n",
        "fnumber = 1.0\n",
        "\n",
        "#character\n",
        "char = \"a\"\n",
        "\n",
        "#string\n",
        "string = \"This is a string\"\n",
        "\n",
        "#bool\n",
        "var = True\n"
      ],
      "metadata": {
        "id": "Y46kxuwc4iJC"
      },
      "execution_count": null,
      "outputs": []
    },
    {
      "cell_type": "markdown",
      "source": [
        "Can print the type of the variable by using type() (ex. print(type(number)) -> int)"
      ],
      "metadata": {
        "id": "9GECt7qm7V-t"
      }
    },
    {
      "cell_type": "code",
      "source": [
        "#print(type())\n",
        "\n",
        "print(type(number))\n",
        "print(type(fnumber))\n",
        "print(type(char)) # why string? -> 파이썬은 문자를 스트링으로 자동저장하는 특징이 있습니다. 다른 언어에선 엄연히 다른 변수입니다.\n",
        "print(type(string))"
      ],
      "metadata": {
        "colab": {
          "base_uri": "https://localhost:8080/"
        },
        "id": "XAQNwn5K7VZ0",
        "outputId": "6386ce73-4e2c-4950-9c7f-e5b404e57933"
      },
      "execution_count": null,
      "outputs": [
        {
          "output_type": "stream",
          "name": "stdout",
          "text": [
            "<class 'int'>\n",
            "<class 'float'>\n",
            "<class 'str'>\n",
            "<class 'str'>\n"
          ]
        }
      ]
    },
    {
      "cell_type": "markdown",
      "source": [
        "#### 예제"
      ],
      "metadata": {
        "id": "91EMUhH77_-y"
      }
    },
    {
      "cell_type": "markdown",
      "source": [
        "1 name, age, major 3개의 변수를 만들어서 각각 프린트 해보시오"
      ],
      "metadata": {
        "id": "5SpGKMU68Ceg"
      }
    },
    {
      "cell_type": "code",
      "source": [
        "#\n",
        "name = \"Henry Park\"\n",
        "age = 21\n",
        "major = \"bioengineering\"\n",
        "print(name)\n",
        "print(age)\n",
        "print(major)\n",
        "print(type(name))\n",
        "print(type(age))\n",
        "print(type(major))"
      ],
      "metadata": {
        "id": "L6qShf147pZ1",
        "colab": {
          "base_uri": "https://localhost:8080/"
        },
        "outputId": "b344cff9-21c5-4b82-9b09-cf1746b56a79"
      },
      "execution_count": null,
      "outputs": [
        {
          "output_type": "stream",
          "name": "stdout",
          "text": [
            "Henry Park\n",
            "21\n",
            "bioengineering\n",
            "<class 'str'>\n",
            "<class 'int'>\n",
            "<class 'str'>\n"
          ]
        }
      ]
    },
    {
      "cell_type": "markdown",
      "source": [
        "String \"4\"와 int 4는 서로 다른 존재!"
      ],
      "metadata": {
        "id": "HJXteOvCQbeN"
      }
    },
    {
      "cell_type": "code",
      "source": [
        "print(\"4\" + 4)"
      ],
      "metadata": {
        "colab": {
          "base_uri": "https://localhost:8080/",
          "height": 180
        },
        "id": "WSMxkY62Qj4b",
        "outputId": "ad409af7-2035-4076-9836-3a2eca803300"
      },
      "execution_count": null,
      "outputs": [
        {
          "output_type": "error",
          "ename": "TypeError",
          "evalue": "can only concatenate str (not \"int\") to str",
          "traceback": [
            "\u001b[0;31m---------------------------------------------------------------------------\u001b[0m",
            "\u001b[0;31mTypeError\u001b[0m                                 Traceback (most recent call last)",
            "\u001b[0;32m<ipython-input-1-ac460de97e11>\u001b[0m in \u001b[0;36m<cell line: 1>\u001b[0;34m()\u001b[0m\n\u001b[0;32m----> 1\u001b[0;31m \u001b[0mprint\u001b[0m\u001b[0;34m(\u001b[0m\u001b[0;34m\"4\"\u001b[0m \u001b[0;34m+\u001b[0m \u001b[0;36m4\u001b[0m\u001b[0;34m)\u001b[0m\u001b[0;34m\u001b[0m\u001b[0;34m\u001b[0m\u001b[0m\n\u001b[0m",
            "\u001b[0;31mTypeError\u001b[0m: can only concatenate str (not \"int\") to str"
          ]
        }
      ]
    },
    {
      "cell_type": "markdown",
      "source": [
        "##Basic Operators"
      ],
      "metadata": {
        "id": "Kg9FAd7cQwtW"
      }
    },
    {
      "cell_type": "markdown",
      "source": [
        "\n",
        "\n",
        "```\n",
        "# These are the basic operations\n",
        "1. + - * / -> 사칙연산\n",
        "2. //      -> 버림\n",
        "3. %       -> 나머지\n",
        "4. **      -> 제곱\n",
        "```\n",
        "\n",
        "\n",
        "\n"
      ],
      "metadata": {
        "id": "NtfmYKSaQ0Ed"
      }
    },
    {
      "cell_type": "code",
      "source": [
        "num1 = 10\n",
        "num2 = 5\n",
        "\n",
        "\n",
        "#더하기\n",
        "print(num1 + num2)\n",
        "\n",
        "#빼기\n",
        "print(num1 - num2)\n",
        "\n",
        "#곱하기\n",
        "print(num1 * num2)\n",
        "\n",
        "#나누기\n",
        "print(num1 / num2) # 나누기는 자동으로 결과 값이 int에서 float으로 바뀝니다.\n",
        "\n",
        "#버림\n",
        "print(num1 // num2) # 버림은 정수의 형태를 유지합니다\n",
        "\n",
        "#나머지\n",
        "print(num1 % 3)\n",
        "\n",
        "#제곱\n",
        "print(num2 ** 2)"
      ],
      "metadata": {
        "colab": {
          "base_uri": "https://localhost:8080/"
        },
        "id": "YhM1g8HkQmCc",
        "outputId": "7f8f9ed5-cb45-4802-d7c6-9e5da527b34c"
      },
      "execution_count": null,
      "outputs": [
        {
          "output_type": "stream",
          "name": "stdout",
          "text": [
            "15\n",
            "5\n",
            "50\n",
            "2.0\n",
            "2\n",
            "1\n",
            "25\n"
          ]
        }
      ]
    },
    {
      "cell_type": "markdown",
      "source": [
        "Comparison\n",
        "\n",
        "\n",
        "\n",
        "\n",
        "1. $>$\n",
        "2. $<$\n",
        "3. $<=$\n",
        "4. $>=$\n",
        "5. $==$ -> what is the difference between = and ==?\n",
        "6. $!=$ -> not equals to\n",
        "\n"
      ],
      "metadata": {
        "id": "anGLAqc1Z0zm"
      }
    },
    {
      "cell_type": "code",
      "source": [
        "comp1 = 10\n",
        "comp2 = 3\n",
        "\n",
        "print(comp1 > comp2)\n",
        "print(comp1 < comp2)\n",
        "print(comp1 >= 10)\n",
        "print(comp1 <= comp2)\n",
        "\n",
        "print(10 == 10.0)\n",
        "print(comp1 != comp2)"
      ],
      "metadata": {
        "colab": {
          "base_uri": "https://localhost:8080/"
        },
        "id": "gayijD4OY-DD",
        "outputId": "f8d7a581-984c-4819-c89d-68a41da05235"
      },
      "execution_count": null,
      "outputs": [
        {
          "output_type": "stream",
          "name": "stdout",
          "text": [
            "True\n",
            "False\n",
            "True\n",
            "False\n",
            "True\n",
            "True\n"
          ]
        }
      ]
    },
    {
      "cell_type": "markdown",
      "source": [
        "Some other cool operations\n",
        "\n",
        "1. += -> same as num = num + num2\n",
        "2. -= -> same as num = num - num2\n",
        "3. *= -> same as num = num * num2\n",
        "4. /= -> same as num = num / num2"
      ],
      "metadata": {
        "id": "n9FodNIhargI"
      }
    },
    {
      "cell_type": "code",
      "source": [
        "a = 5\n",
        "\n",
        "#addition\n",
        "a += 1\n",
        "print(a)\n",
        "\n",
        "#subtraction\n",
        "a -= 1\n",
        "print(a)\n",
        "\n",
        "#multiplication\n",
        "a *=2\n",
        "print(a)\n",
        "\n",
        "#division\n",
        "a /= 2\n",
        "print(a)"
      ],
      "metadata": {
        "colab": {
          "base_uri": "https://localhost:8080/"
        },
        "id": "XvIrjHHUaaa7",
        "outputId": "21f76fb7-581d-4c5f-a973-47bfe0969482"
      },
      "execution_count": null,
      "outputs": [
        {
          "output_type": "stream",
          "name": "stdout",
          "text": [
            "6\n",
            "5\n",
            "10\n",
            "5.0\n"
          ]
        }
      ]
    },
    {
      "cell_type": "code",
      "source": [
        "# Use case\n",
        "\n",
        "pivot = 0\n",
        "while pivot < 10:\n",
        "  print(pivot)\n",
        "  pivot += 1"
      ],
      "metadata": {
        "colab": {
          "base_uri": "https://localhost:8080/"
        },
        "id": "oMgAzhkVcKuj",
        "outputId": "e5e23cf7-adf9-47b6-f50b-cdc2c086f351"
      },
      "execution_count": null,
      "outputs": [
        {
          "output_type": "stream",
          "name": "stdout",
          "text": [
            "0\n",
            "1\n",
            "2\n",
            "3\n",
            "4\n",
            "5\n",
            "6\n",
            "7\n",
            "8\n",
            "9\n"
          ]
        }
      ]
    },
    {
      "cell_type": "markdown",
      "source": [
        "Logical Operation\n",
        "\n",
        "1. and\n",
        "2. or\n",
        "\n",
        "\n",
        "![image.png](data:image/png;base64,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)"
      ],
      "metadata": {
        "id": "AqAzZQ4igCnv"
      }
    },
    {
      "cell_type": "code",
      "source": [
        "ap = 30\n",
        "result = ap % 4\n",
        "print(result)"
      ],
      "metadata": {
        "id": "sMrBT_tkco8A",
        "colab": {
          "base_uri": "https://localhost:8080/"
        },
        "outputId": "6a53e8ca-6d7b-4bbe-f6ea-57ffff98bfbc"
      },
      "execution_count": null,
      "outputs": [
        {
          "output_type": "stream",
          "name": "stdout",
          "text": [
            "2\n"
          ]
        }
      ]
    },
    {
      "cell_type": "code",
      "source": [
        "hg = 3 * 12\n",
        "iy = 2 * 20\n",
        "print(hg > iy)"
      ],
      "metadata": {
        "colab": {
          "base_uri": "https://localhost:8080/"
        },
        "id": "aPATWGkRKRb9",
        "outputId": "4386abfe-7165-4b7b-c849-0697a512df86"
      },
      "execution_count": null,
      "outputs": [
        {
          "output_type": "stream",
          "name": "stdout",
          "text": [
            "False\n"
          ]
        }
      ]
    },
    {
      "cell_type": "code",
      "source": [
        "hg = 40\n",
        "iy = 37\n",
        "print(hg // 3 > iy // 3)"
      ],
      "metadata": {
        "colab": {
          "base_uri": "https://localhost:8080/"
        },
        "id": "lNZQadF-LEDi",
        "outputId": "262ccd65-3043-406e-b86e-697107e65304"
      },
      "execution_count": null,
      "outputs": [
        {
          "output_type": "stream",
          "name": "stdout",
          "text": [
            "True\n"
          ]
        }
      ]
    },
    {
      "cell_type": "code",
      "source": [
        "c = 35\n",
        "y = 23\n",
        "print(300 / (c - y))\n",
        "\n"
      ],
      "metadata": {
        "colab": {
          "base_uri": "https://localhost:8080/"
        },
        "id": "VxAtV30bMsZL",
        "outputId": "601f1aeb-cb4e-4aee-8572-09189b1786e4"
      },
      "execution_count": null,
      "outputs": [
        {
          "output_type": "stream",
          "name": "stdout",
          "text": [
            "25.0\n",
            "25.0\n"
          ]
        }
      ]
    }
  ]
}